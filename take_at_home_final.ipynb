{
  "cells": [
    {
      "cell_type": "code",
      "execution_count": null,
      "metadata": {
        "id": "xD-T4fFnWN1f"
      },
      "outputs": [],
      "source": [
        "import torch\n",
        "import numpy as np\n",
        "from torchvision import datasets, transforms\n",
        "import matplotlib.pyplot as plt\n",
        "import optuna"
      ]
    },
    {
      "cell_type": "code",
      "execution_count": null,
      "metadata": {
        "id": "QCc6asrmWN1g"
      },
      "outputs": [],
      "source": [
        "train_dataset = datasets.MNIST(root='./mnist_data/', train=True, transform=transforms.ToTensor(), download=False)\n",
        "test_dataset = datasets.MNIST(root='./mnist_data/', train=False, transform=transforms.ToTensor(), download=False)"
      ]
    },
    {
      "cell_type": "code",
      "execution_count": null,
      "metadata": {
        "id": "NmYA9V42WN1g"
      },
      "outputs": [],
      "source": [
        "device = torch.device(\"cuda\")"
      ]
    },
    {
      "cell_type": "markdown",
      "metadata": {
        "id": "OohEuP2FWN1g"
      },
      "source": [
        "We first create custom classes for the distribution of latent variables, $z$ and the input image $x$ since we will be backpropagting through the parameter of these distributions."
      ]
    },
    {
      "cell_type": "markdown",
      "metadata": {
        "id": "38hM0AzzWN1g"
      },
      "source": [
        "First, this is a class that returns the log probability of the normal distribution, $\\log(p(x))$ where $x \\sim \\mathcal{N} (\\mu, \\sigma) $. This will be used as the distribution for latent variables"
      ]
    },
    {
      "cell_type": "code",
      "execution_count": null,
      "metadata": {
        "id": "PDihz1BDWN1h"
      },
      "outputs": [],
      "source": [
        "class Normal(torch.nn.Module):\n",
        "    def __init__(self):\n",
        "        super().__init__()\n",
        "\n",
        "    def forward(self, mu, std, z):\n",
        "        sigma = torch.pow(std, 2)\n",
        "        #probability of a z modelled as a gaussian centered at mu and with variance var\n",
        "        return -0.5 * torch.log(2 * np.pi * sigma) - torch.pow(z - mu, 2) / (2 * sigma)"
      ]
    },
    {
      "cell_type": "markdown",
      "source": [
        "This class returns the log probabiliy of the Bernoulli distribution, $\\log(p(x))$ where $x \\sim$ Bernoulli $(p)$"
      ],
      "metadata": {
        "id": "JBmJj7BWWa1S"
      }
    },
    {
      "cell_type": "code",
      "execution_count": null,
      "metadata": {
        "id": "PcsBu7RUWN1h"
      },
      "outputs": [],
      "source": [
        "class Bernoulli(torch.nn.Module):\n",
        "    def __init__(self):\n",
        "        super().__init__()\n",
        "        #we use the proxy that bernoulli distribution log probability is equivalent to negative logit loss\n",
        "        self.bernoulli=torch.nn.BCEWithLogitsLoss(reduction=\"none\")\n",
        "\n",
        "    def forward(self, x_pred, x):\n",
        "        return  -self.bernoulli(x_pred, x)"
      ]
    },
    {
      "cell_type": "markdown",
      "source": [
        "The encoder takes an input image and outputs $\\mu$ and $\\sigma$ to parameterize $p(z|x) = \\mathcal{N}(\\mu, \\sigma)$. Since we are optimizing with respect to the parameters of a probability distribution, we use a reparametrization trick to make sure we can take derivates, $z= \\mu + \\sigma \\cdot \\mathcal{N}(0,1)$. When sampling from the distribution, we will also use the same trick."
      ],
      "metadata": {
        "id": "Vttw0e35aAsG"
      }
    },
    {
      "cell_type": "code",
      "execution_count": null,
      "metadata": {
        "id": "Qdecx2xbWN1h"
      },
      "outputs": [],
      "source": [
        "class Encoder(torch.nn.Module):\n",
        "    \"\"\"\n",
        "    Class for an encoder with variable latent and input size. Returns a latent variable sampled from the parameterized distribution\n",
        "    \"\"\"\n",
        "    def __init__(self, dim_latent, dim_input):\n",
        "        super().__init__()\n",
        "        #Neural network that retunrs mu and sigma parameters for the p(z|x)\n",
        "        self.network=torch.nn.Sequential(*[torch.nn.Linear(dim_input, dim_latent*2), torch.nn.ReLU(),torch.nn.Linear(dim_latent*2, dim_latent*2),torch.nn.ReLU(),torch.nn.Linear(dim_latent*2, dim_latent*2)])\n",
        "        #Guassian distribution\n",
        "        self.normal=Normal()\n",
        "        #Softplus layer to ensure variance is positive\n",
        "        self.softplus=torch.nn.Softplus()\n",
        "\n",
        "    def forward(self,x):\n",
        "        # get mu and sigma from the network\n",
        "        mu, sigma=torch.chunk(self.network(x).unsqueeze(1), chunks=2, dim=-1)\n",
        "        # ensure that variance is positive\n",
        "        sigma_pos=self.softplus(sigma)\n",
        "        # get an standard normal function for the reparametrization trick. Note that we add a dimension in the tensor. This is to account for cases where it might be benefecial to generate multiple samples of z from the distribution\n",
        "        std_normal=torch.randn((mu.shape[0], 1, mu.shape[-1])).to(device)\n",
        "        # latent variable obtained from the reparatermized trick\n",
        "        z=mu+sigma*std_normal\n",
        "        # return log normal of the latent variable obtained from reparameterization. Use this value as for the KL divergence regularizer in the ELBO\n",
        "        probs_z=self.normal(mu, sigma_pos, z ).sum(-1, keepdim=True)\n",
        "\n",
        "        return z,probs_z\n",
        "\n",
        ""
      ]
    },
    {
      "cell_type": "markdown",
      "source": [
        "The decoder takes an latent feature $z$ and computes paramters of 784 bernoulli distributions. We reconstruct $x$ by sampling from these distributions. We output the sampled x from this distribution and the mean $\\log q(x|z)$ across the latent samples. For a particular sample, we can return this mean as the product of $\\log q(x|z )$ and the probability of that sample being taken from the distribution of latens, which in our case is a standard Gaussian"
      ],
      "metadata": {
        "id": "jxMAdCT1dMNc"
      }
    },
    {
      "cell_type": "code",
      "execution_count": null,
      "metadata": {
        "id": "JwMHz4dpWN1h"
      },
      "outputs": [],
      "source": [
        "class Decoder(torch.nn.Module):\n",
        "\n",
        "    def __init__(self, dim_latent, dim_input):\n",
        "        super().__init__()\n",
        "\n",
        "        #make sure that torch does not compute gradients w.r.t. parameters to the standard Gaussian\n",
        "        self.register_buffer(\"z_mu\", torch.zeros(dim_latent))\n",
        "        self.register_buffer(\"z_sigma\", torch.ones(dim_latent))\n",
        "        # Neural Network to predict the parameters to the Bernoulli distribution\n",
        "        self.network=torch.nn.Sequential(*[torch.nn.Linear(dim_latent, dim_latent*2), torch.nn.ReLU(),torch.nn.Linear(dim_latent*2, dim_latent*2),torch.nn.ReLU(),torch.nn.Linear(dim_latent*2, dim_input)])\n",
        "        self.normal=Normal()\n",
        "        self.bernoulli=Bernoulli()\n",
        "\n",
        "    def forward(self, x, z):\n",
        "        # Probability of a sample assuming p(z) is a Standard Gaussian\n",
        "        p_z = self.normal(self.z_mu, self.z_sigma, z).sum(-1, keepdim=True)\n",
        "        # parameters for a\n",
        "        x_ps=self.network(z)\n",
        "        x_ps, x = torch.broadcast_tensors(x_ps, x.unsqueeze(1))\n",
        "        #take the log of the bernoulli distribution\n",
        "        log_p_x = self.bernoulli(x_ps, x).sum(-1, keepdim=True)\n",
        "        return x_ps, log_p_x + p_z\n",
        ""
      ]
    },
    {
      "cell_type": "code",
      "execution_count": null,
      "metadata": {
        "id": "eX3NSjd6WN1h"
      },
      "outputs": [],
      "source": [
        "#loading the mnist dataset to train\n",
        "train_loader = torch.utils.data.DataLoader(dataset=train_dataset, batch_size=128, shuffle=True)\n",
        "test_loader = torch.utils.data.DataLoader(dataset=test_dataset, batch_size=512, shuffle=False)"
      ]
    },
    {
      "cell_type": "markdown",
      "source": [
        "While training we are jointly optimizer the encoder and decoder parameters with the Evidence Lower Bound(ELBO) loss. We have constructed the encoder and decoder such that it returns the probabilities that when summed is equivalent to the ELBO"
      ],
      "metadata": {
        "id": "ggGZ6Viqi9gQ"
      }
    },
    {
      "cell_type": "code",
      "execution_count": null,
      "metadata": {
        "id": "Q1IR6jkTWN1h"
      },
      "outputs": [],
      "source": [
        "def vae_study(trial):\n",
        "\n",
        "    dim=trial.suggest_int(\"latent_dim\", 5, 9)\n",
        "    lr = trial.suggest_int(\"lr\", -4, -2)\n",
        "\n",
        "    lr=10**lr\n",
        "    latent_dim=2**dim\n",
        "\n",
        "    print(lr, latent_dim)\n",
        "\n",
        "    encoder=Encoder(latent_dim,784).to(device)\n",
        "    decoder=Decoder(latent_dim, 784).to(device)\n",
        "\n",
        "    opt=torch.optim.RMSprop(list(encoder.parameters()) + list(decoder.parameters()) , lr=lr)\n",
        "\n",
        "    test_loss=[]\n",
        "\n",
        "    epochs=10\n",
        "\n",
        "    for i in range(epochs):\n",
        "        train_elbo_epoch=0.\n",
        "        for  x, _ in (train_loader):\n",
        "            #turn samples into [batch_size,784] dimensions\n",
        "            x=x.flatten(start_dim=1).to(device)\n",
        "\n",
        "            #clear all gradients\n",
        "            encoder.zero_grad()\n",
        "            decoder.zero_grad()\n",
        "            opt.zero_grad()\n",
        "\n",
        "\n",
        "\n",
        "            z, probs_z= encoder(x)\n",
        "            __, probsxz=decoder(x,z)\n",
        "\n",
        "            #taking the mean in case multiple samples for z were generated.\n",
        "            elbo= (probs_z - probsxz).mean(1)\n",
        "\n",
        "            #taking the loss along all samples in the batch\n",
        "            loss= elbo.sum(0)\n",
        "\n",
        "            loss.backward()\n",
        "\n",
        "            opt.step()\n",
        "\n",
        "        # performance on the test set\n",
        "        with torch.no_grad():\n",
        "            test_elbo_epoch=0.\n",
        "            for x_test, _ in test_loader:\n",
        "                x_test=x_test.flatten(start_dim=1).to(device)\n",
        "                z, probs_z= encoder(x)\n",
        "                __, probsxz=decoder(x,z)\n",
        "                elbo= (probs_z - probsxz).mean(1)\n",
        "                test_elbo_epoch+= elbo.sum(0).detach().cpu().numpy()[0]\n",
        "\n",
        "            print(test_elbo_epoch)\n",
        "        test_loss.append(test_elbo_epoch)\n",
        "\n",
        "    return np.mean(test_loss)/len(test_loss)\n",
        "\n",
        ""
      ]
    },
    {
      "cell_type": "code",
      "execution_count": null,
      "metadata": {
        "id": "l1QrwAb-WN1h",
        "outputId": "0215ce0c-9957-45e3-8a02-1f7cbc7d6852"
      },
      "outputs": [
        {
          "name": "stderr",
          "output_type": "stream",
          "text": [
            "[I 2023-12-22 01:30:39,102] A new study created in memory with name: no-name-28c42a5d-52ca-49ed-b76f-fe910aab8d0b\n"
          ]
        },
        {
          "name": "stdout",
          "output_type": "stream",
          "text": [
            "0.01 32\n",
            "338685.974609375\n",
            "312137.6611328125\n",
            "289604.390625\n",
            "257889.248046875\n",
            "246953.0205078125\n",
            "253473.470703125\n",
            "252005.388671875\n",
            "248916.611328125\n",
            "271000.4326171875\n"
          ]
        },
        {
          "name": "stderr",
          "output_type": "stream",
          "text": [
            "[I 2023-12-22 01:31:48,421] Trial 0 finished with value: 27215.495224609378 and parameters: {'latent_dim': 5, 'lr': -2}. Best is trial 0 with value: 27215.495224609378.\n"
          ]
        },
        {
          "name": "stdout",
          "output_type": "stream",
          "text": [
            "250883.32421875\n",
            "0.001 256\n",
            "284021.1689453125\n",
            "233993.8125\n",
            "178831.3203125\n",
            "185903.1435546875\n",
            "161051.40087890625\n",
            "158564.30224609375\n",
            "156102.1240234375\n",
            "139907.94384765625\n",
            "152094.32861328125\n"
          ]
        },
        {
          "name": "stderr",
          "output_type": "stream",
          "text": [
            "[I 2023-12-22 01:32:59,456] Trial 1 finished with value: 17947.709829101565 and parameters: {'latent_dim': 8, 'lr': -3}. Best is trial 1 with value: 17947.709829101565.\n"
          ]
        },
        {
          "name": "stdout",
          "output_type": "stream",
          "text": [
            "144301.43798828125\n",
            "0.001 512\n",
            "283060.9736328125\n",
            "214349.2412109375\n",
            "170218.6318359375\n",
            "157542.162109375\n",
            "129053.76708984375\n",
            "135067.77392578125\n",
            "118413.56494140625\n",
            "107796.62109375\n",
            "118751.92138671875\n"
          ]
        },
        {
          "name": "stderr",
          "output_type": "stream",
          "text": [
            "[I 2023-12-22 01:34:11,438] Trial 2 finished with value: 15506.862216796875 and parameters: {'latent_dim': 9, 'lr': -3}. Best is trial 2 with value: 15506.862216796875.\n"
          ]
        },
        {
          "name": "stdout",
          "output_type": "stream",
          "text": [
            "116431.564453125\n",
            "0.001 256\n",
            "284235.591796875\n",
            "231352.0791015625\n",
            "197526.3017578125\n",
            "167003.046875\n",
            "162713.009765625\n",
            "162037.13232421875\n",
            "150586.96240234375\n",
            "151596.70654296875\n",
            "143651.12060546875\n"
          ]
        },
        {
          "name": "stderr",
          "output_type": "stream",
          "text": [
            "[I 2023-12-22 01:35:22,383] Trial 3 finished with value: 17938.096411132814 and parameters: {'latent_dim': 8, 'lr': -3}. Best is trial 2 with value: 15506.862216796875.\n"
          ]
        },
        {
          "name": "stdout",
          "output_type": "stream",
          "text": [
            "143107.68994140625\n",
            "0.01 512\n",
            "nan\n",
            "nan\n",
            "nan\n",
            "nan\n",
            "nan\n",
            "nan\n",
            "nan\n",
            "nan\n",
            "nan\n"
          ]
        },
        {
          "name": "stderr",
          "output_type": "stream",
          "text": [
            "[W 2023-12-22 01:36:34,493] Trial 4 failed with parameters: {'latent_dim': 9, 'lr': -2} because of the following error: The value nan is not acceptable.\n",
            "[W 2023-12-22 01:36:34,494] Trial 4 failed with value nan.\n"
          ]
        },
        {
          "name": "stdout",
          "output_type": "stream",
          "text": [
            "nan\n",
            "0.0001 64\n",
            "nan\n",
            "nan\n",
            "nan\n",
            "nan\n",
            "nan\n",
            "nan\n",
            "nan\n",
            "nan\n",
            "nan\n"
          ]
        },
        {
          "name": "stderr",
          "output_type": "stream",
          "text": [
            "[W 2023-12-22 01:37:44,353] Trial 5 failed with parameters: {'latent_dim': 6, 'lr': -4} because of the following error: The value nan is not acceptable.\n",
            "[W 2023-12-22 01:37:44,353] Trial 5 failed with value nan.\n"
          ]
        },
        {
          "name": "stdout",
          "output_type": "stream",
          "text": [
            "nan\n",
            "0.01 64\n",
            "340632.912109375\n",
            "317342.1474609375\n",
            "306298.0888671875\n",
            "260407.015625\n",
            "231730.8544921875\n",
            "238217.8564453125\n",
            "242396.54296875\n",
            "231302.09375\n",
            "240007.3876953125\n"
          ]
        },
        {
          "name": "stderr",
          "output_type": "stream",
          "text": [
            "[I 2023-12-22 01:38:53,985] Trial 6 finished with value: 26589.64572265625 and parameters: {'latent_dim': 6, 'lr': -2}. Best is trial 2 with value: 15506.862216796875.\n"
          ]
        },
        {
          "name": "stdout",
          "output_type": "stream",
          "text": [
            "250629.6728515625\n",
            "0.01 32\n",
            "nan\n",
            "nan\n",
            "nan\n",
            "nan\n",
            "nan\n",
            "nan\n",
            "nan\n",
            "nan\n",
            "nan\n"
          ]
        },
        {
          "name": "stderr",
          "output_type": "stream",
          "text": [
            "[W 2023-12-22 01:40:03,376] Trial 7 failed with parameters: {'latent_dim': 5, 'lr': -2} because of the following error: The value nan is not acceptable.\n",
            "[W 2023-12-22 01:40:03,377] Trial 7 failed with value nan.\n"
          ]
        },
        {
          "name": "stdout",
          "output_type": "stream",
          "text": [
            "nan\n",
            "0.001 256\n",
            "306735.5703125\n",
            "229915.0849609375\n",
            "205126.8974609375\n",
            "162124.095703125\n",
            "161166.572265625\n",
            "159420.138671875\n",
            "143647.333984375\n",
            "157532.2373046875\n",
            "152144.07470703125\n"
          ]
        },
        {
          "name": "stderr",
          "output_type": "stream",
          "text": [
            "[I 2023-12-22 01:41:14,290] Trial 8 finished with value: 18205.616782226563 and parameters: {'latent_dim': 8, 'lr': -3}. Best is trial 2 with value: 15506.862216796875.\n"
          ]
        },
        {
          "name": "stdout",
          "output_type": "stream",
          "text": [
            "142749.6728515625\n",
            "0.01 512\n",
            "nan\n",
            "nan\n",
            "nan\n",
            "nan\n",
            "nan\n",
            "nan\n",
            "nan\n",
            "nan\n",
            "nan\n"
          ]
        },
        {
          "name": "stderr",
          "output_type": "stream",
          "text": [
            "[W 2023-12-22 01:42:26,404] Trial 9 failed with parameters: {'latent_dim': 9, 'lr': -2} because of the following error: The value nan is not acceptable.\n",
            "[W 2023-12-22 01:42:26,404] Trial 9 failed with value nan.\n"
          ]
        },
        {
          "name": "stdout",
          "output_type": "stream",
          "text": [
            "nan\n",
            "0.0001 32\n",
            "411388.96875\n",
            "385643.0546875\n",
            "360006.0234375\n",
            "360223.61328125\n",
            "350552.970703125\n",
            "349449.119140625\n",
            "340791.7421875\n",
            "318915.578125\n",
            "315454.404296875\n"
          ]
        },
        {
          "name": "stderr",
          "output_type": "stream",
          "text": [
            "[I 2023-12-22 01:43:35,940] Trial 10 finished with value: 34895.32658203125 and parameters: {'latent_dim': 5, 'lr': -4}. Best is trial 2 with value: 15506.862216796875.\n"
          ]
        },
        {
          "name": "stdout",
          "output_type": "stream",
          "text": [
            "297107.18359375\n",
            "0.001 64\n",
            "nan\n",
            "nan\n",
            "nan\n",
            "nan\n",
            "nan\n",
            "nan\n",
            "nan\n",
            "nan\n",
            "nan\n"
          ]
        },
        {
          "name": "stderr",
          "output_type": "stream",
          "text": [
            "[W 2023-12-22 01:44:45,878] Trial 11 failed with parameters: {'latent_dim': 6, 'lr': -3} because of the following error: The value nan is not acceptable.\n",
            "[W 2023-12-22 01:44:45,878] Trial 11 failed with value nan.\n"
          ]
        },
        {
          "name": "stdout",
          "output_type": "stream",
          "text": [
            "nan\n",
            "0.01 128\n",
            "336377.9765625\n",
            "289863.3447265625\n",
            "262713.8330078125\n",
            "259061.17578125\n",
            "250025.421875\n",
            "224343.1435546875\n",
            "245466.1064453125\n",
            "230259.806640625\n",
            "215926.0263671875\n"
          ]
        },
        {
          "name": "stderr",
          "output_type": "stream",
          "text": [
            "[I 2023-12-22 01:45:56,063] Trial 12 finished with value: 25492.585673828125 and parameters: {'latent_dim': 7, 'lr': -2}. Best is trial 2 with value: 15506.862216796875.\n"
          ]
        },
        {
          "name": "stdout",
          "output_type": "stream",
          "text": [
            "235221.732421875\n",
            "0.0001 512\n",
            "285934.7705078125\n",
            "252256.6494140625\n",
            "228253.255859375\n",
            "207365.3935546875\n",
            "205167.7978515625\n",
            "185908.44140625\n",
            "189182.158203125\n",
            "174348.1591796875\n",
            "171337.328125\n"
          ]
        },
        {
          "name": "stderr",
          "output_type": "stream",
          "text": [
            "[I 2023-12-22 01:47:08,129] Trial 13 finished with value: 20549.18230957031 and parameters: {'latent_dim': 9, 'lr': -4}. Best is trial 2 with value: 15506.862216796875.\n"
          ]
        },
        {
          "name": "stdout",
          "output_type": "stream",
          "text": [
            "155164.27685546875\n",
            "0.0001 32\n",
            "nan\n",
            "nan\n",
            "nan\n",
            "nan\n",
            "nan\n",
            "nan\n",
            "nan\n",
            "nan\n",
            "nan\n"
          ]
        },
        {
          "name": "stderr",
          "output_type": "stream",
          "text": [
            "[W 2023-12-22 01:48:17,477] Trial 14 failed with parameters: {'latent_dim': 5, 'lr': -4} because of the following error: The value nan is not acceptable.\n",
            "[W 2023-12-22 01:48:17,478] Trial 14 failed with value nan.\n"
          ]
        },
        {
          "name": "stdout",
          "output_type": "stream",
          "text": [
            "nan\n",
            "0.001 512\n",
            "228305.076171875\n",
            "208868.6513671875\n",
            "158518.85546875\n",
            "148093.7373046875\n",
            "144019.4833984375\n",
            "113737.83984375\n",
            "112035.6171875\n",
            "126039.9482421875\n",
            "101023.62353515625\n"
          ]
        },
        {
          "name": "stderr",
          "output_type": "stream",
          "text": [
            "[I 2023-12-22 01:49:29,569] Trial 15 finished with value: 14538.965810546875 and parameters: {'latent_dim': 9, 'lr': -3}. Best is trial 15 with value: 14538.965810546875.\n"
          ]
        },
        {
          "name": "stdout",
          "output_type": "stream",
          "text": [
            "113253.74853515625\n",
            "0.0001 128\n",
            "nan\n",
            "nan\n",
            "nan\n",
            "nan\n",
            "nan\n",
            "nan\n",
            "nan\n",
            "nan\n",
            "nan\n"
          ]
        },
        {
          "name": "stderr",
          "output_type": "stream",
          "text": [
            "[W 2023-12-22 01:50:39,804] Trial 16 failed with parameters: {'latent_dim': 7, 'lr': -4} because of the following error: The value nan is not acceptable.\n",
            "[W 2023-12-22 01:50:39,805] Trial 16 failed with value nan.\n"
          ]
        },
        {
          "name": "stdout",
          "output_type": "stream",
          "text": [
            "nan\n",
            "0.0001 128\n",
            "385029.466796875\n",
            "338346.529296875\n",
            "314570.107421875\n",
            "303981.970703125\n",
            "281807.1318359375\n",
            "284738.603515625\n",
            "264146.4208984375\n",
            "256386.736328125\n",
            "250287.5146484375\n"
          ]
        },
        {
          "name": "stderr",
          "output_type": "stream",
          "text": [
            "[I 2023-12-22 01:51:50,256] Trial 17 finished with value: 29187.213017578128 and parameters: {'latent_dim': 7, 'lr': -4}. Best is trial 15 with value: 14538.965810546875.\n"
          ]
        },
        {
          "name": "stdout",
          "output_type": "stream",
          "text": [
            "239426.8203125\n",
            "0.001 512\n",
            "258069.5947265625\n",
            "214182.333984375\n",
            "175974.6044921875\n",
            "135663.978515625\n",
            "130848.3154296875\n",
            "127468.38671875\n",
            "123796.66357421875\n",
            "122089.14599609375\n",
            "115554.52099609375\n"
          ]
        },
        {
          "name": "stderr",
          "output_type": "stream",
          "text": [
            "[I 2023-12-22 01:53:02,380] Trial 18 finished with value: 15221.890161132813 and parameters: {'latent_dim': 9, 'lr': -3}. Best is trial 15 with value: 14538.965810546875.\n"
          ]
        },
        {
          "name": "stdout",
          "output_type": "stream",
          "text": [
            "118541.4716796875\n",
            "0.001 512\n",
            "255980.5927734375\n",
            "200111.548828125\n",
            "176639.830078125\n",
            "146830.5244140625\n",
            "137910.6865234375\n",
            "126077.322265625\n",
            "113526.412109375\n",
            "125797.240234375\n",
            "107275.03125\n"
          ]
        },
        {
          "name": "stderr",
          "output_type": "stream",
          "text": [
            "[I 2023-12-22 01:54:14,521] Trial 19 finished with value: 14983.038247070313 and parameters: {'latent_dim': 9, 'lr': -3}. Best is trial 15 with value: 14538.965810546875.\n"
          ]
        },
        {
          "name": "stdout",
          "output_type": "stream",
          "text": [
            "108154.63623046875\n",
            "0.001 512\n",
            "257101.689453125\n",
            "220871.66015625\n",
            "168323.9873046875\n",
            "141536.2802734375\n",
            "136420.37890625\n",
            "138529.6494140625\n",
            "124980.33251953125\n",
            "119487.322265625\n",
            "112501.17138671875\n"
          ]
        },
        {
          "name": "stderr",
          "output_type": "stream",
          "text": [
            "[I 2023-12-22 01:55:26,673] Trial 20 finished with value: 15283.643686523437 and parameters: {'latent_dim': 9, 'lr': -3}. Best is trial 15 with value: 14538.965810546875.\n"
          ]
        },
        {
          "name": "stdout",
          "output_type": "stream",
          "text": [
            "108611.89697265625\n",
            "0.001 256\n",
            "277756.88671875\n",
            "226375.208984375\n",
            "212181.6083984375\n",
            "184655.380859375\n",
            "168123.0390625\n",
            "155452.6494140625\n",
            "140879.646484375\n",
            "155485.99951171875\n",
            "154227.11083984375\n"
          ]
        },
        {
          "name": "stderr",
          "output_type": "stream",
          "text": [
            "[I 2023-12-22 01:56:37,780] Trial 21 finished with value: 18188.830390625 and parameters: {'latent_dim': 8, 'lr': -3}. Best is trial 15 with value: 14538.965810546875.\n"
          ]
        },
        {
          "name": "stdout",
          "output_type": "stream",
          "text": [
            "143745.5087890625\n",
            "0.0001 128\n",
            "372015.830078125\n",
            "353316.1796875\n",
            "320284.01953125\n",
            "316104.98046875\n",
            "286699.8662109375\n",
            "279030.1005859375\n",
            "269230.4580078125\n",
            "256296.291015625\n",
            "230027.9228515625\n"
          ]
        },
        {
          "name": "stderr",
          "output_type": "stream",
          "text": [
            "[I 2023-12-22 01:57:48,052] Trial 22 finished with value: 29110.50448242187 and parameters: {'latent_dim': 7, 'lr': -4}. Best is trial 15 with value: 14538.965810546875.\n"
          ]
        },
        {
          "name": "stdout",
          "output_type": "stream",
          "text": [
            "228044.7998046875\n",
            "0.01 512\n",
            "nan\n",
            "nan\n",
            "nan\n",
            "nan\n",
            "nan\n",
            "nan\n",
            "nan\n",
            "nan\n",
            "nan\n"
          ]
        },
        {
          "name": "stderr",
          "output_type": "stream",
          "text": [
            "[W 2023-12-22 01:59:00,243] Trial 23 failed with parameters: {'latent_dim': 9, 'lr': -2} because of the following error: The value nan is not acceptable.\n",
            "[W 2023-12-22 01:59:00,244] Trial 23 failed with value nan.\n"
          ]
        },
        {
          "name": "stdout",
          "output_type": "stream",
          "text": [
            "nan\n",
            "0.01 512\n",
            "nan\n",
            "nan\n",
            "nan\n",
            "nan\n",
            "nan\n",
            "nan\n",
            "nan\n",
            "nan\n",
            "nan\n"
          ]
        },
        {
          "name": "stderr",
          "output_type": "stream",
          "text": [
            "[W 2023-12-22 02:00:12,219] Trial 24 failed with parameters: {'latent_dim': 9, 'lr': -2} because of the following error: The value nan is not acceptable.\n",
            "[W 2023-12-22 02:00:12,220] Trial 24 failed with value nan.\n"
          ]
        },
        {
          "name": "stdout",
          "output_type": "stream",
          "text": [
            "nan\n",
            "0.01 512\n",
            "nan\n",
            "nan\n",
            "nan\n",
            "nan\n",
            "nan\n",
            "nan\n",
            "nan\n",
            "nan\n",
            "nan\n"
          ]
        },
        {
          "name": "stderr",
          "output_type": "stream",
          "text": [
            "[W 2023-12-22 02:01:24,222] Trial 25 failed with parameters: {'latent_dim': 9, 'lr': -2} because of the following error: The value nan is not acceptable.\n",
            "[W 2023-12-22 02:01:24,223] Trial 25 failed with value nan.\n"
          ]
        },
        {
          "name": "stdout",
          "output_type": "stream",
          "text": [
            "nan\n",
            "0.01 512\n",
            "nan\n",
            "nan\n",
            "nan\n",
            "nan\n",
            "nan\n",
            "nan\n",
            "nan\n",
            "nan\n",
            "nan\n"
          ]
        },
        {
          "name": "stderr",
          "output_type": "stream",
          "text": [
            "[W 2023-12-22 02:02:36,247] Trial 26 failed with parameters: {'latent_dim': 9, 'lr': -2} because of the following error: The value nan is not acceptable.\n",
            "[W 2023-12-22 02:02:36,248] Trial 26 failed with value nan.\n"
          ]
        },
        {
          "name": "stdout",
          "output_type": "stream",
          "text": [
            "nan\n",
            "0.01 512\n",
            "722902.33203125\n",
            "672088.23046875\n",
            "330554.546875\n",
            "312367.3759765625\n",
            "279977.833984375\n",
            "245080.5078125\n",
            "243083.7734375\n",
            "251667.7890625\n",
            "238931.2744140625\n"
          ]
        },
        {
          "name": "stderr",
          "output_type": "stream",
          "text": [
            "[I 2023-12-22 02:03:48,200] Trial 27 finished with value: 35412.54287109375 and parameters: {'latent_dim': 9, 'lr': -2}. Best is trial 15 with value: 14538.965810546875.\n"
          ]
        },
        {
          "name": "stdout",
          "output_type": "stream",
          "text": [
            "244600.623046875\n",
            "0.001 256\n",
            "279387.2666015625\n",
            "236825.19140625\n",
            "184926.3369140625\n",
            "168088.3408203125\n",
            "155009.55224609375\n",
            "156440.37451171875\n",
            "152397.71826171875\n",
            "162315.1220703125\n",
            "153687.94775390625\n"
          ]
        },
        {
          "name": "stderr",
          "output_type": "stream",
          "text": [
            "[I 2023-12-22 02:04:59,092] Trial 28 finished with value: 17954.303466796875 and parameters: {'latent_dim': 8, 'lr': -3}. Best is trial 15 with value: 14538.965810546875.\n"
          ]
        },
        {
          "name": "stdout",
          "output_type": "stream",
          "text": [
            "146352.49609375\n",
            "0.0001 64\n",
            "399141.77734375\n",
            "374977.841796875\n",
            "366222.0703125\n",
            "339352.490234375\n",
            "327390.7373046875\n",
            "323042.4990234375\n",
            "302220.4560546875\n",
            "274018.6103515625\n",
            "270247.6181640625\n"
          ]
        },
        {
          "name": "stderr",
          "output_type": "stream",
          "text": [
            "[I 2023-12-22 02:06:08,863] Trial 29 finished with value: 32450.422138671875 and parameters: {'latent_dim': 6, 'lr': -4}. Best is trial 15 with value: 14538.965810546875.\n"
          ]
        },
        {
          "name": "stdout",
          "output_type": "stream",
          "text": [
            "268428.11328125\n"
          ]
        }
      ],
      "source": [
        "study=optuna.create_study(direction='minimize')\n",
        "study.optimize(vae_study, n_trials=30, timeout=3600*3)"
      ]
    },
    {
      "cell_type": "code",
      "execution_count": null,
      "metadata": {
        "id": "op2usHFKWN1i",
        "outputId": "4cdf981b-bb69-491f-b4e6-1c7879dd3229"
      },
      "outputs": [
        {
          "data": {
            "text/plain": [
              "{'latent_dim': 9, 'lr': -3}"
            ]
          },
          "execution_count": 236,
          "metadata": {},
          "output_type": "execute_result"
        }
      ],
      "source": [
        "study.best_params"
      ]
    },
    {
      "cell_type": "markdown",
      "source": [
        "Please note that some of the test results have nans in them. After inspection, it seems like a particular combination of learning rates and latent sizes make the ELBO explode for certain batches. I also noticed that a higher precision ( i.e using 0.010000009 instead of 0.01 as the learning rate) soemtimes leads to the losses exploding.\n",
        "\n",
        "\n",
        " More work could be done here to analzye why and for which batches this happens, but for the sake of brevity I have excluded this analysis and picked the best performing hyperparameters."
      ],
      "metadata": {
        "id": "_ZYm0JBfkIYT"
      }
    },
    {
      "cell_type": "code",
      "execution_count": null,
      "metadata": {
        "id": "8j4-V69YWN1i"
      },
      "outputs": [],
      "source": [
        "lr = 10**-3\n",
        "\n",
        "latent_dim=2**9\n",
        "\n",
        "encoder=Encoder(latent_size,784).to(device)\n",
        "decoder=Decoder(latent_size, 784).to(device)\n",
        "\n",
        "opt=torch.optim.RMSprop(list(encoder.parameters()) + list(decoder.parameters()) , lr=lr)\n",
        "\n",
        "train_loss=[]\n",
        "test_loss=[]\n",
        "\n",
        "epochs=100\n",
        "\n",
        "for i in range(epochs):\n",
        "    train_elbo_epoch=0.\n",
        "    for  x, _ in (train_loader):\n",
        "        x=x.flatten(start_dim=1).to(device)\n",
        "\n",
        "        encoder.zero_grad()\n",
        "        decoder.zero_grad()\n",
        "        opt.zero_grad()\n",
        "\n",
        "        z, probs_z= encoder(x)\n",
        "        __, probsxz=decoder(x,z)\n",
        "        elbo= (probs_z - probsxz).mean(1)\n",
        "        loss= elbo.sum(0)\n",
        "        loss.backward()\n",
        "        train_elbo_epoch+=loss.detach().cpu().numpy()[0]\n",
        "        opt.step()\n",
        "\n",
        "    with torch.no_grad():\n",
        "        test_elbo_epoch=0.\n",
        "        for x_test, _ in test_loader:\n",
        "            x_test=x_test.flatten(start_dim=1).to(device)\n",
        "            z, probs_z= encoder(x_test)\n",
        "            __, probsxz=decoder(x_test,z)\n",
        "            elbo= (probs_z - probsxz).mean(1)\n",
        "            test_elbo_epoch+= elbo.sum(0).detach().cpu().numpy()[0]\n",
        "\n",
        "    train_loss.append(train_elbo_epoch)\n",
        "    test_loss.append(test_elbo_epoch)\n",
        "\n"
      ]
    },
    {
      "cell_type": "markdown",
      "source": [
        "# Training Loss"
      ],
      "metadata": {
        "id": "Gn5XRCpflPb6"
      }
    },
    {
      "cell_type": "code",
      "execution_count": null,
      "metadata": {
        "id": "LDOnVFN4WN1i",
        "outputId": "a66f82c7-4f51-452f-a807-28d92e973095"
      },
      "outputs": [
        {
          "data": {
            "text/plain": [
              "[<matplotlib.lines.Line2D at 0x155448e21d20>]"
            ]
          },
          "execution_count": 240,
          "metadata": {},
          "output_type": "execute_result"
        },
        {
          "data": {
            "image/png": "[encoded data removed]",
            "text/plain": [
              "<Figure size 640x480 with 1 Axes>"
            ]
          },
          "metadata": {},
          "output_type": "display_data"
        }
      ],
      "source": [
        "plt.plot([i for i in range(len(train_loss))], train_loss)"
      ]
    },
    {
      "cell_type": "markdown",
      "source": [
        "# Test Loss"
      ],
      "metadata": {
        "id": "BZOZk_8llTRL"
      }
    },
    {
      "cell_type": "code",
      "execution_count": null,
      "metadata": {
        "id": "y4O0XqqkWN1i",
        "outputId": "e47db2a3-4b49-4cf9-afac-20850aade515"
      },
      "outputs": [
        {
          "data": {
            "text/plain": [
              "[<matplotlib.lines.Line2D at 0x155448ceaaa0>]"
            ]
          },
          "execution_count": 241,
          "metadata": {},
          "output_type": "execute_result"
        },
        {
          "data": {
            "image/png": "[encoded data removed]",
            "text/plain": [
              "<Figure size 640x480 with 1 Axes>"
            ]
          },
          "metadata": {},
          "output_type": "display_data"
        }
      ],
      "source": [
        "plt.plot([i for i in range(len(test_loss))], test_loss)"
      ]
    },
    {
      "cell_type": "markdown",
      "metadata": {
        "tags": [],
        "id": "M-zWYQweWN1i"
      },
      "source": [
        "# Latent Variables plot for each class"
      ]
    },
    {
      "cell_type": "code",
      "execution_count": null,
      "metadata": {
        "id": "gd4IaMULWN1j"
      },
      "outputs": [],
      "source": [
        "vars_dict={0:[], 1:[], 2:[], 3:[], 4:[], 5:[], 6:[], 7:[], 8:[], 9:[]}\n",
        "\n",
        "for data in test_dataset:\n",
        "    if len(vars_dict[data[1]]) <100:\n",
        "        vars_dict[data[1]].append(data[0])"
      ]
    },
    {
      "cell_type": "code",
      "execution_count": null,
      "metadata": {
        "id": "wyWWA8MGWN1j"
      },
      "outputs": [],
      "source": [
        "z1=[]\n",
        "z2=[]\n",
        "z_label=[]\n",
        "\n",
        "for k in vars_dict:\n",
        "    z1_grouped=[]\n",
        "    z2_grouped=[]\n",
        "    label=[]\n",
        "    for x in vars_dict[k]:\n",
        "        x=x.flatten(start_dim=1).to(device)\n",
        "        z, probs_z= encoder(x)\n",
        "        z1_grouped.append(z[0][0][0].detach().cpu().numpy())\n",
        "        z2_grouped.append(z[0][0][1].detach().cpu().numpy())\n",
        "        label.append(k)\n",
        "\n",
        "    z1.append(z1_grouped)\n",
        "    z2.append(z2_grouped)\n",
        "    z_label.append(label)"
      ]
    },
    {
      "cell_type": "code",
      "execution_count": null,
      "metadata": {
        "id": "fVBPdRmnWN1k",
        "outputId": "34934718-582a-492d-ec42-50565f78435d"
      },
      "outputs": [
        {
          "data": {
            "text/plain": [
              "<matplotlib.legend.Legend at 0x15543d9db850>"
            ]
          },
          "execution_count": 335,
          "metadata": {},
          "output_type": "execute_result"
        },
        {
          "data": {
            "image/png": "[encoded data removed]",
            "text/plain": [
              "<Figure size 640x480 with 1 Axes>"
            ]
          },
          "metadata": {},
          "output_type": "display_data"
        }
      ],
      "source": [
        "for i in range(10):\n",
        "    plt.scatter(z1[i], z2[i],  label=i)\n",
        "plt.legend()"
      ]
    },
    {
      "cell_type": "markdown",
      "metadata": {
        "id": "5XoIr-QVWN1k"
      },
      "source": [
        "# Reconstruction for each class"
      ]
    },
    {
      "cell_type": "code",
      "execution_count": null,
      "metadata": {
        "id": "F2e-Uzw0WN1k"
      },
      "outputs": [],
      "source": [
        "import random"
      ]
    },
    {
      "cell_type": "code",
      "execution_count": null,
      "metadata": {
        "id": "1vBeD-OoWN1k"
      },
      "outputs": [],
      "source": [
        "def get_reconstructed_image(x):\n",
        "    x=x.flatten(start_dim=1).to(device)\n",
        "    z, probs_z= encoder(x)\n",
        "    genx, probsxz=decoder(x,z)\n",
        "\n",
        "    # For the sake of simplicty, I have simplified the process of smapling from the bernoulli distribution by creating a certain probabilistic threshold. I choose 0.01 as this threshold since most of the parameters value seem to be negative or very small.\n",
        "    # Each pixel in the image will have values in (0,1) as a result of this simplistic sampling\n",
        "\n",
        "    return (genx.detach().cpu().numpy()>0.01).astype(int).reshape(28,28)"
      ]
    },
    {
      "cell_type": "code",
      "execution_count": null,
      "metadata": {
        "id": "WXKY7r6JWN1k",
        "outputId": "4d61072d-cba3-447c-da2f-73fda0f53393"
      },
      "outputs": [
        {
          "data": {
            "text/plain": [
              "<matplotlib.image.AxesImage at 0x15543d6f1ba0>"
            ]
          },
          "execution_count": 346,
          "metadata": {},
          "output_type": "execute_result"
        },
        {
          "data": {
            "image/png": "[encoded data removed]",
            "text/plain": [
              "<Figure size 640x480 with 1 Axes>"
            ]
          },
          "metadata": {},
          "output_type": "display_data"
        }
      ],
      "source": [
        "index=random.randint(0,100)\n",
        "plt.imshow(vars_dict[0][index].cpu().numpy().reshape(28,28))"
      ]
    },
    {
      "cell_type": "code",
      "execution_count": null,
      "metadata": {
        "id": "kawMORjCWN1k",
        "outputId": "b246f229-a5c0-43bf-b8a9-53deb65f5f41"
      },
      "outputs": [
        {
          "data": {
            "text/plain": [
              "<matplotlib.image.AxesImage at 0x15543d56ca00>"
            ]
          },
          "execution_count": 347,
          "metadata": {},
          "output_type": "execute_result"
        },
        {
          "data": {
            "image/png": "[encoded data removed]",
            "text/plain": [
              "<Figure size 640x480 with 1 Axes>"
            ]
          },
          "metadata": {},
          "output_type": "display_data"
        }
      ],
      "source": [
        "plt.imshow(get_reconstructed_image(vars_dict[0][index]).reshape(28,28))"
      ]
    },
    {
      "cell_type": "code",
      "execution_count": null,
      "metadata": {
        "id": "N2GvR10yWN1k",
        "outputId": "0af891c6-a0a6-4bbe-85d9-f256f3f54c5d"
      },
      "outputs": [
        {
          "data": {
            "text/plain": [
              "<matplotlib.image.AxesImage at 0x15543d547610>"
            ]
          },
          "execution_count": 348,
          "metadata": {},
          "output_type": "execute_result"
        },
        {
          "data": {
            "image/png": "[encoded data removed]",
            "text/plain": [
              "<Figure size 640x480 with 1 Axes>"
            ]
          },
          "metadata": {},
          "output_type": "display_data"
        }
      ],
      "source": [
        "index=random.randint(0,100)\n",
        "plt.imshow(vars_dict[1][index].cpu().numpy().reshape(28,28))"
      ]
    },
    {
      "cell_type": "code",
      "execution_count": null,
      "metadata": {
        "id": "VcpiyrYRWN1k",
        "outputId": "9607bb31-29e8-4000-8d9f-61d891b7a37d"
      },
      "outputs": [
        {
          "data": {
            "text/plain": [
              "<matplotlib.image.AxesImage at 0x15543d4b5090>"
            ]
          },
          "execution_count": 350,
          "metadata": {},
          "output_type": "execute_result"
        },
        {
          "data": {
            "image/png": "[encoded data removed]",
            "text/plain": [
              "<Figure size 640x480 with 1 Axes>"
            ]
          },
          "metadata": {},
          "output_type": "display_data"
        }
      ],
      "source": [
        "plt.imshow(get_reconstructed_image(vars_dict[1][index]).reshape(28,28))"
      ]
    },
    {
      "cell_type": "code",
      "execution_count": null,
      "metadata": {
        "id": "lNJ8bUm9WN1k",
        "outputId": "49cc4326-e02c-46bd-f366-439f9b73a8dd"
      },
      "outputs": [
        {
          "data": {
            "text/plain": [
              "<matplotlib.image.AxesImage at 0x15543d334640>"
            ]
          },
          "execution_count": 351,
          "metadata": {},
          "output_type": "execute_result"
        },
        {
          "data": {
            "image/png": "[encoded data removed]",
            "text/plain": [
              "<Figure size 640x480 with 1 Axes>"
            ]
          },
          "metadata": {},
          "output_type": "display_data"
        }
      ],
      "source": [
        "index=random.randint(0,100)\n",
        "plt.imshow(vars_dict[2][index].cpu().numpy().reshape(28,28))"
      ]
    },
    {
      "cell_type": "code",
      "execution_count": null,
      "metadata": {
        "id": "bYCFwd51WN1k",
        "outputId": "3117a0c3-a418-4b1d-e912-9309c96ca2df"
      },
      "outputs": [
        {
          "data": {
            "text/plain": [
              "<matplotlib.image.AxesImage at 0x15543dada140>"
            ]
          },
          "execution_count": 353,
          "metadata": {},
          "output_type": "execute_result"
        },
        {
          "data": {
            "image/png": "[encoded data removed]",
            "text/plain": [
              "<Figure size 640x480 with 1 Axes>"
            ]
          },
          "metadata": {},
          "output_type": "display_data"
        }
      ],
      "source": [
        "plt.imshow(get_reconstructed_image(vars_dict[2][index]).reshape(28,28))"
      ]
    },
    {
      "cell_type": "code",
      "execution_count": null,
      "metadata": {
        "id": "yyOPF5KYWN1k",
        "outputId": "fe30a5a1-14ad-4081-d5df-bd96ef9f8c31"
      },
      "outputs": [
        {
          "data": {
            "text/plain": [
              "<matplotlib.image.AxesImage at 0x15543dee3730>"
            ]
          },
          "execution_count": 354,
          "metadata": {},
          "output_type": "execute_result"
        },
        {
          "data": {
            "image/png": "[encoded data removed]",
            "text/plain": [
              "<Figure size 640x480 with 1 Axes>"
            ]
          },
          "metadata": {},
          "output_type": "display_data"
        }
      ],
      "source": [
        "index=random.randint(0,100)\n",
        "plt.imshow(vars_dict[3][index].cpu().numpy().reshape(28,28))"
      ]
    },
    {
      "cell_type": "code",
      "execution_count": null,
      "metadata": {
        "id": "rLrNYkkVWN1k",
        "outputId": "f949b5bd-a56a-4017-d0fd-8634ced97d69"
      },
      "outputs": [
        {
          "data": {
            "text/plain": [
              "<matplotlib.image.AxesImage at 0x15543e162980>"
            ]
          },
          "execution_count": 355,
          "metadata": {},
          "output_type": "execute_result"
        },
        {
          "data": {
            "image/png": "[encoded data removed]",
            "text/plain": [
              "<Figure size 640x480 with 1 Axes>"
            ]
          },
          "metadata": {},
          "output_type": "display_data"
        }
      ],
      "source": [
        "plt.imshow(get_reconstructed_image(vars_dict[3][index]).reshape(28,28))"
      ]
    },
    {
      "cell_type": "code",
      "execution_count": null,
      "metadata": {
        "id": "L3sxQMC5WN1k",
        "outputId": "de632aba-3d94-4b46-9026-7d0698bf965e"
      },
      "outputs": [
        {
          "data": {
            "text/plain": [
              "<matplotlib.image.AxesImage at 0x15543e161660>"
            ]
          },
          "execution_count": 356,
          "metadata": {},
          "output_type": "execute_result"
        },
        {
          "data": {
            "image/png": "[encoded data removed]",
            "text/plain": [
              "<Figure size 640x480 with 1 Axes>"
            ]
          },
          "metadata": {},
          "output_type": "display_data"
        }
      ],
      "source": [
        "index=random.randint(0,100)\n",
        "plt.imshow(vars_dict[4][index].cpu().numpy().reshape(28,28))"
      ]
    },
    {
      "cell_type": "code",
      "execution_count": null,
      "metadata": {
        "id": "moPP39ZsWN1k",
        "outputId": "f07788c1-d73b-4c62-cb10-62f2d2ee7d1b"
      },
      "outputs": [
        {
          "data": {
            "text/plain": [
              "<matplotlib.image.AxesImage at 0x15543f175a50>"
            ]
          },
          "execution_count": 357,
          "metadata": {},
          "output_type": "execute_result"
        },
        {
          "data": {
            "image/png": "[encoded data removed]",
            "text/plain": [
              "<Figure size 640x480 with 1 Axes>"
            ]
          },
          "metadata": {},
          "output_type": "display_data"
        }
      ],
      "source": [
        "plt.imshow(get_reconstructed_image(vars_dict[4][index]).reshape(28,28))"
      ]
    },
    {
      "cell_type": "code",
      "execution_count": null,
      "metadata": {
        "id": "jiHm6i09WN1r",
        "outputId": "065b220b-b75c-4970-b34d-706851d17b2d"
      },
      "outputs": [
        {
          "data": {
            "text/plain": [
              "<matplotlib.image.AxesImage at 0x15543e559b40>"
            ]
          },
          "execution_count": 358,
          "metadata": {},
          "output_type": "execute_result"
        },
        {
          "data": {
            "image/png": "[encoded data removed]",
            "text/plain": [
              "<Figure size 640x480 with 1 Axes>"
            ]
          },
          "metadata": {},
          "output_type": "display_data"
        }
      ],
      "source": [
        "index=random.randint(0,100)\n",
        "plt.imshow(vars_dict[5][index].cpu().numpy().reshape(28,28))"
      ]
    },
    {
      "cell_type": "code",
      "execution_count": null,
      "metadata": {
        "id": "fme6DBFGWN1r",
        "outputId": "ebc3ca59-19a7-4e57-ade9-26ba5c29d2c7"
      },
      "outputs": [
        {
          "data": {
            "text/plain": [
              "<matplotlib.image.AxesImage at 0x15543d76a290>"
            ]
          },
          "execution_count": 359,
          "metadata": {},
          "output_type": "execute_result"
        },
        {
          "data": {
            "image/png": "[encoded data removed]",
            "text/plain": [
              "<Figure size 640x480 with 1 Axes>"
            ]
          },
          "metadata": {},
          "output_type": "display_data"
        }
      ],
      "source": [
        "plt.imshow(get_reconstructed_image(vars_dict[5][index]).reshape(28,28))"
      ]
    },
    {
      "cell_type": "code",
      "execution_count": null,
      "metadata": {
        "id": "7fS0VenMWN1r",
        "outputId": "cb3cfb6c-0155-422e-fa3f-d40dc97de9af"
      },
      "outputs": [
        {
          "data": {
            "text/plain": [
              "<matplotlib.image.AxesImage at 0x15543e2af5b0>"
            ]
          },
          "execution_count": 360,
          "metadata": {},
          "output_type": "execute_result"
        },
        {
          "data": {
            "image/png": "[encoded data removed]",
            "text/plain": [
              "<Figure size 640x480 with 1 Axes>"
            ]
          },
          "metadata": {},
          "output_type": "display_data"
        }
      ],
      "source": [
        "index=random.randint(0,100)\n",
        "plt.imshow(vars_dict[6][index].cpu().numpy().reshape(28,28))"
      ]
    },
    {
      "cell_type": "code",
      "execution_count": null,
      "metadata": {
        "id": "rUwaY44BWN1r",
        "outputId": "9100b21d-8abb-4aff-ac27-752b862d98ba"
      },
      "outputs": [
        {
          "data": {
            "text/plain": [
              "<matplotlib.image.AxesImage at 0x15543d3a3e20>"
            ]
          },
          "execution_count": 361,
          "metadata": {},
          "output_type": "execute_result"
        },
        {
          "data": {
            "image/png": "[encoded data removed]",
            "text/plain": [
              "<Figure size 640x480 with 1 Axes>"
            ]
          },
          "metadata": {},
          "output_type": "display_data"
        }
      ],
      "source": [
        "plt.imshow(get_reconstructed_image(vars_dict[6][index]).reshape(28,28))"
      ]
    },
    {
      "cell_type": "code",
      "execution_count": null,
      "metadata": {
        "id": "IjCHJIjaWN1r",
        "outputId": "089ef6cd-04cb-4452-ccf7-a0ea92d2296d"
      },
      "outputs": [
        {
          "data": {
            "text/plain": [
              "<matplotlib.image.AxesImage at 0x15543d2151b0>"
            ]
          },
          "execution_count": 362,
          "metadata": {},
          "output_type": "execute_result"
        },
        {
          "data": {
            "image/png": "[encoded data removed]",
            "text/plain": [
              "<Figure size 640x480 with 1 Axes>"
            ]
          },
          "metadata": {},
          "output_type": "display_data"
        }
      ],
      "source": [
        "index=random.randint(0,100)\n",
        "plt.imshow(vars_dict[7][index].cpu().numpy().reshape(28,28))"
      ]
    },
    {
      "cell_type": "code",
      "execution_count": null,
      "metadata": {
        "id": "Ho6SJKb_WN1r",
        "outputId": "28de5c8c-7917-42fd-d9b0-0252db14eb5c"
      },
      "outputs": [
        {
          "data": {
            "text/plain": [
              "<matplotlib.image.AxesImage at 0x15543d269b40>"
            ]
          },
          "execution_count": 363,
          "metadata": {},
          "output_type": "execute_result"
        },
        {
          "data": {
            "image/png": "[encoded data removed]",
            "text/plain": [
              "<Figure size 640x480 with 1 Axes>"
            ]
          },
          "metadata": {},
          "output_type": "display_data"
        }
      ],
      "source": [
        "plt.imshow(get_reconstructed_image(vars_dict[7][index]).reshape(28,28))"
      ]
    },
    {
      "cell_type": "code",
      "execution_count": null,
      "metadata": {
        "id": "N5boMu5uWN1r",
        "outputId": "db318650-19e1-4b30-bf88-db6101260fa9"
      },
      "outputs": [
        {
          "data": {
            "text/plain": [
              "<matplotlib.image.AxesImage at 0x15543d070a90>"
            ]
          },
          "execution_count": 368,
          "metadata": {},
          "output_type": "execute_result"
        },
        {
          "data": {
            "image/png": "[encoded data removed]",
            "text/plain": [
              "<Figure size 640x480 with 1 Axes>"
            ]
          },
          "metadata": {},
          "output_type": "display_data"
        }
      ],
      "source": [
        "index=random.randint(0,100)\n",
        "plt.imshow(vars_dict[8][index].cpu().numpy().reshape(28,28))"
      ]
    },
    {
      "cell_type": "code",
      "execution_count": null,
      "metadata": {
        "id": "gVGRKvVBWN1r",
        "outputId": "21b06859-32e1-4f44-a165-f41ad9d37239"
      },
      "outputs": [
        {
          "data": {
            "text/plain": [
              "<matplotlib.image.AxesImage at 0x15543d0cb3a0>"
            ]
          },
          "execution_count": 369,
          "metadata": {},
          "output_type": "execute_result"
        },
        {
          "data": {
            "image/png": "[encoded data removed]",
            "text/plain": [
              "<Figure size 640x480 with 1 Axes>"
            ]
          },
          "metadata": {},
          "output_type": "display_data"
        }
      ],
      "source": [
        "plt.imshow(get_reconstructed_image(vars_dict[8][index]).reshape(28,28))"
      ]
    },
    {
      "cell_type": "code",
      "execution_count": null,
      "metadata": {
        "id": "5cWsrs9nWN1r",
        "outputId": "c2faa558-ff9f-4b95-fd44-efe5fcc9d9b7"
      },
      "outputs": [
        {
          "data": {
            "text/plain": [
              "<matplotlib.image.AxesImage at 0x15543cf44640>"
            ]
          },
          "execution_count": 370,
          "metadata": {},
          "output_type": "execute_result"
        },
        {
          "data": {
            "image/png": "[encoded data removed]",
            "text/plain": [
              "<Figure size 640x480 with 1 Axes>"
            ]
          },
          "metadata": {},
          "output_type": "display_data"
        }
      ],
      "source": [
        "index=random.randint(0,100)\n",
        "plt.imshow(vars_dict[9][index].cpu().numpy().reshape(28,28))"
      ]
    },
    {
      "cell_type": "code",
      "execution_count": null,
      "metadata": {
        "id": "Qyl7h3M6WN1r",
        "outputId": "72c8d8ab-f120-44fd-b4c2-be5453168621"
      },
      "outputs": [
        {
          "data": {
            "text/plain": [
              "<matplotlib.image.AxesImage at 0x15543cfc0ee0>"
            ]
          },
          "execution_count": 371,
          "metadata": {},
          "output_type": "execute_result"
        },
        {
          "data": {
            "image/png": "[encoded data removed]",
            "text/plain": [
              "<Figure size 640x480 with 1 Axes>"
            ]
          },
          "metadata": {},
          "output_type": "display_data"
        }
      ],
      "source": [
        "plt.imshow(get_reconstructed_image(vars_dict[9][index]).reshape(28,28))"
      ]
    },
    {
      "cell_type": "code",
      "execution_count": null,
      "metadata": {
        "id": "FEJwSbshWN1r"
      },
      "outputs": [],
      "source": []
    }
  ],
  "metadata": {
    "kernelspec": {
      "display_name": "Pytorch-gpu",
      "language": "python",
      "name": "pytorch-gpu"
    },
    "language_info": {
      "codemirror_mode": {
        "name": "ipython",
        "version": 3
      },
      "file_extension": ".py",
      "mimetype": "text/x-python",
      "name": "python",
      "nbconvert_exporter": "python",
      "pygments_lexer": "ipython3",
      "version": "3.10.12"
    },
    "colab": {
      "provenance": []
    }
  },
  "nbformat": 4,
  "nbformat_minor": 0
}